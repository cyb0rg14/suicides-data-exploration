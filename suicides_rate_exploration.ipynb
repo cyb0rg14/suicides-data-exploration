{
 "cells": [
  {
   "attachments": {},
   "cell_type": "markdown",
   "metadata": {},
   "source": [
    "# **DATA ANALYSIS USING PYTHON**"
   ]
  },
  {
   "cell_type": "code",
   "execution_count": null,
   "metadata": {},
   "outputs": [],
   "source": [
    "import pandas as pd\n",
    "import numpy as np\n",
    "import matplotlib.pyplot as plt\n",
    "plt.style.use('fivethirtyeight')"
   ]
  },
  {
   "cell_type": "code",
   "execution_count": null,
   "metadata": {},
   "outputs": [],
   "source": [
    "dataframe = pd.read_csv('master.csv')\n",
    "dataframe.columns"
   ]
  },
  {
   "cell_type": "code",
   "execution_count": null,
   "metadata": {},
   "outputs": [],
   "source": [
    "dataframe.info()\n",
    "\n",
    "# removing unappropriate columns, in this case 'HDI for year'\n",
    "dataframe.drop(columns=['HDI for year', 'generation'], inplace=True)"
   ]
  },
  {
   "attachments": {},
   "cell_type": "markdown",
   "metadata": {},
   "source": [
    "## **Let's do trend analysis across countries**"
   ]
  },
  {
   "cell_type": "code",
   "execution_count": null,
   "metadata": {},
   "outputs": [],
   "source": [
    "# taking input to do the analysis on a specific country\n",
    "country_X = input('Enter country name: ').title()\n",
    "data_of_X_country = dataframe[dataframe['country'] == country_X]\n",
    "\n",
    "# calculating all the suicides have been done by the people of country X\n",
    "suicides_from_X_country = data_of_X_country['suicides_no'].sum()\n",
    "\n",
    "# grouping the data by year\n",
    "groupedby_year = data_of_X_country.groupby('year')\n",
    "no_of_suicides = groupedby_year['suicides_no'].sum()\n",
    "\n",
    "# now we will make a graph to represent the trend of suicide in country X \n",
    "no_of_suicides.plot(kind='line', x='year', y='suicides_no', marker='o', color='red', linewidth=0.8)\n",
    "\n",
    "# doing some changes to make graph more visually appealing\n",
    "plt.xlabel('Year', fontname='Jetbrains Mono', fontsize=10, fontweight='bold', fontstyle='italic')\n",
    "plt.ylabel('Number of Suicides', fontname='Jetbrains Mono', fontsize=10, fontweight='bold', fontstyle='italic')\n",
    "plt.title(f\"Number of Suicides by Year in {country_X}\", fontname='Georgia', fontsize=12)\n",
    "\n",
    "# adding some additional annotation on the visual\n",
    "total_suicides = f\"Total Suicides: {suicides_from_X_country}\"\n",
    "plt.annotate(total_suicides, xy=(0.02, 0.95), xycoords='axes fraction', fontsize=10, fontweight='bold', color='black')\n",
    "\n",
    "plt.show()"
   ]
  },
  {
   "attachments": {},
   "cell_type": "markdown",
   "metadata": {},
   "source": [
    "## **Let's do gender analysis on our dataset**"
   ]
  },
  {
   "cell_type": "code",
   "execution_count": null,
   "metadata": {},
   "outputs": [],
   "source": [
    "groupedby_sex = dataframe.groupby('sex')\n",
    "suicides_by_sex = groupedby_sex['suicides_no'].sum()\n",
    "\n",
    "# set a custom color palette\n",
    "colors = ['#598392', '#124559']\n",
    "\n",
    "# create a figure and axis object\n",
    "fig, ax = plt.subplots(figsize=(5, 5))\n",
    "\n",
    "# create a pie chart\n",
    "ax.pie(suicides_by_sex, labels=suicides_by_sex.index, colors=colors, autopct='%1.1f%%', startangle=90)\n",
    "\n",
    "# add a title and legend\n",
    "ax.set_title('Suicides by Sex')\n",
    "ax.legend(title='Sex', loc='best')\n",
    "\n",
    "# make the pie chart circular\n",
    "ax.axis('equal')\n",
    "\n",
    "# display the plot\n",
    "plt.show()"
   ]
  },
  {
   "attachments": {},
   "cell_type": "markdown",
   "metadata": {},
   "source": [
    "## **Let's do trend analysis by year_range**"
   ]
  },
  {
   "cell_type": "code",
   "execution_count": null,
   "metadata": {},
   "outputs": [],
   "source": [
    "# creating a new column to divide years in 7 groups\n",
    "bins = [1985, 1990, 1995, 2000, 2005, 2010, 2016]\n",
    "labels = ['1985-1990', '1991-1995', '1996-2000', '2001-2005', '2006-2010', '2011-2016']\n",
    "\n",
    "# Using pd.cut to create a new column with the assigned category for each row\n",
    "dataframe['year_range'] = pd.cut(dataframe['year'], bins=bins, labels=labels)\n",
    "\n",
    "# now we will likley get to see the trend by time\n",
    "groupedby_year_range = dataframe.groupby('year_range')['suicides_no'].sum()\n",
    "\n",
    "# Creating a bar chart of the grouped data with custom style and layout\n",
    "fig, ax = plt.subplots(figsize=(8, 5))\n",
    "groupedby_year_range.plot(kind='bar', ax=ax, color='#335c67')\n",
    "ax.set_xlabel('Year Range', fontname='Jetbrains Mono', fontsize=15, fontweight='bold')\n",
    "ax.set_ylabel('Total Number of Suicides', fontname='Jetbrains Mono', fontsize=15, fontweight='bold')\n",
    "ax.set_title('Suicide Rates by Year Range')\n",
    "ax.spines['right'].set_visible(False)\n",
    "ax.spines['top'].set_visible(False)\n",
    "plt.xticks(rotation=45, ha='right')\n",
    "plt.tight_layout()\n",
    "plt.show()"
   ]
  },
  {
   "attachments": {},
   "cell_type": "markdown",
   "metadata": {},
   "source": [
    "## **Now finally time has come to do age analysis**\n",
    "* We will get to see, is age one of the factors leading to incresae in suicide rate ..?"
   ]
  },
  {
   "cell_type": "code",
   "execution_count": null,
   "metadata": {},
   "outputs": [],
   "source": [
    "groupedby_age = dataframe.groupby('age')['suicides_no'].sum()\n",
    "\n",
    "# let's make visual to make it more presentable\n",
    "fig, ax = plt.subplots(figsize=(8, 5))\n",
    "groupedby_age.plot.area(ax=ax, color='#1d3557', alpha=0.7)\n",
    "ax.set_xlabel('Age Group', fontname='Jetbrains Mono', fontsize=15, fontweight='bold')\n",
    "ax.set_ylabel('Total Number of Suicides', fontname='Jetbrains Mono', fontsize=15, fontweight='bold')\n",
    "ax.set_title('Suicide Rates by Age Group')\n",
    "ax.spines['right'].set_visible(False)\n",
    "ax.spines['top'].set_visible(False)\n",
    "plt.xticks(rotation=45, ha='right')\n",
    "plt.style.use('ggplot')\n",
    "plt.tight_layout()\n",
    "plt.show()"
   ]
  },
  {
   "attachments": {},
   "cell_type": "markdown",
   "metadata": {},
   "source": [
    "# **NOW LET'S PUT ALL THE POINTS TOGETHER WE HAVE COLLECTED FROM THIS DATASET:-**\n",
    "1. Some countries like United States have seen drastically increase in suicidal rates over years whereas some countries like Germany have faced something completely opposite.\n",
    "2. We can clearly see the men are most likely to be victim of suicides compare to women\n",
    "3. There was a time around 2000's when suicide rate has increased at sudden rate but after that there is no relation between increase in suicidal_rate over time.\n",
    "4. Age group plays the major role in suicides, to be more precise\n",
    "  * Kids are almost save from these kind of accidents\n",
    "  * But as kids grows they are more likley to be the victim\n",
    "  * And as they become senior graphs are again falling down means they are less likely to be the victim\n",
    "  \n",
    "## **You can find more useful insights out of this dataset, so use it as you like**"
   ]
  }
 ],
 "metadata": {
  "language_info": {
   "name": "python"
  },
  "orig_nbformat": 4
 },
 "nbformat": 4,
 "nbformat_minor": 2
}
